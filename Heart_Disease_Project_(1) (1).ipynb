{
 "cells": [
  {
   "cell_type": "code",
   "execution_count": null,
   "id": "443b3893",
   "metadata": {
    "id": "443b3893"
   },
   "outputs": [],
   "source": [
    "import pandas as pd\n",
    "import numpy as np\n",
    "import matplotlib.pyplot as plt\n",
    "import seaborn as sns\n",
    "import cufflinks as cf\n",
    "%matplotlib inline\n",
    "from nltk import DecisionTreeClassifier, accuracy, metrics\n",
    "from sklearn.linear_model import LogisticRegression\n",
    "from sklearn.metrics import classification_report,confusion_matrix,accuracy_score\n",
    "from sklearn.preprocessing import StandardScaler\n",
    "from sklearn.model_selection import  RandomizedSearchCV, train_test_split\n",
    "#from xgboost import XGBClassifier\n",
    "\n",
    "from sklearn.ensemble import RandomForestClassifier\n",
    "from sklearn.neighbors import KNeighborsClassifier\n",
    "from sklearn.svm import SVC\n",
    "from sklearn.impute import  SimpleImputer\n",
    "#\"reade csv file \"\n",
    "data = pd.read_csv(\"heart.csv\")\n",
    "data"
   ]
  },
  {
   "cell_type": "code",
   "execution_count": null,
   "id": "F9zqqMQEqJ75",
   "metadata": {
    "id": "F9zqqMQEqJ75"
   },
   "outputs": [],
   "source": [
    "#to check for missing values\n",
    "data.info()\n",
    "#no NULL values!"
   ]
  },
  {
   "cell_type": "code",
   "execution_count": null,
   "id": "tr7TJeBYsUd1",
   "metadata": {
    "id": "tr7TJeBYsUd1"
   },
   "outputs": [],
   "source": [
    "#check for inconsistent data\n",
    "#see if the features are correctly classified in python(binary,categorical and continous)\n",
    "data.nunique()\n",
    "#Feature ‘ca’ ranges from 0–3, however, df.nunique() listed 0–4. So lets find the ‘4’ and change them to NaN\n",
    "#Also Feature ‘thal’ ranges from 1–3, however, df.nunique() listed 0–3. There are two values of ‘0’. So lets change them to NaN"
   ]
  },
  {
   "cell_type": "code",
   "execution_count": null,
   "id": "emsF1J6CtAHf",
   "metadata": {
    "id": "emsF1J6CtAHf"
   },
   "outputs": [],
   "source": [
    "#to see each unique category in feature 'ca'\n",
    "data['ca'].unique()\n",
    "#we need to change the value 4 to NaN thats why we need to find these rows and know how many rows are we going to change"
   ]
  },
  {
   "cell_type": "code",
   "execution_count": null,
   "id": "RIGGcFRUuKcA",
   "metadata": {
    "id": "RIGGcFRUuKcA"
   },
   "outputs": [],
   "source": [
    "data.ca.value_counts()\n",
    "#5 rows have wrong ca value"
   ]
  },
  {
   "cell_type": "code",
   "execution_count": null,
   "id": "Wj7qRkqDul2z",
   "metadata": {
    "id": "Wj7qRkqDul2z"
   },
   "outputs": [],
   "source": [
    "data[data['ca']==4]\n",
    "#to visualize the wrong ca values having value 4"
   ]
  },
  {
   "cell_type": "code",
   "execution_count": null,
   "id": "RD_0VhMxuwCM",
   "metadata": {
    "id": "RD_0VhMxuwCM"
   },
   "outputs": [],
   "source": [
    "data.loc[data['ca']==4,'ca']=np.NaN\n",
    "#check for unique values again\n",
    "data['ca'].unique()"
   ]
  },
  {
   "cell_type": "code",
   "execution_count": null,
   "id": "6zGTVDMLubw3",
   "metadata": {
    "id": "6zGTVDMLubw3"
   },
   "outputs": [],
   "source": [
    "#same for Feature ‘thal’\n",
    "#to see each unique category in feature 'thal'\n",
    "data['thal'].unique()\n",
    "#we need to change the value 0 to NaN thats why we need to find these rows and know how many rows are we going to change"
   ]
  },
  {
   "cell_type": "code",
   "execution_count": null,
   "id": "YW70WJaWvnRz",
   "metadata": {
    "id": "YW70WJaWvnRz"
   },
   "outputs": [],
   "source": [
    "data.thal.value_counts()\n",
    "#2 rows have wrong thal value"
   ]
  },
  {
   "cell_type": "code",
   "execution_count": null,
   "id": "6TW3xpCfwD1U",
   "metadata": {
    "id": "6TW3xpCfwD1U"
   },
   "outputs": [],
   "source": [
    "data[data['thal']==0]\n",
    "#to visualize the wrong thal values having value 0"
   ]
  },
  {
   "cell_type": "code",
   "execution_count": null,
   "id": "Okk8C_dewLSS",
   "metadata": {
    "id": "Okk8C_dewLSS"
   },
   "outputs": [],
   "source": [
    "data.loc[data['thal']==0,'thal']=np.NaN #replace wrong data with NaN\n",
    "#check for unique values again\n",
    "data['thal'].unique()"
   ]
  },
  {
   "cell_type": "code",
   "execution_count": null,
   "id": "FuYZUqhEwjwL",
   "metadata": {
    "id": "FuYZUqhEwjwL"
   },
   "outputs": [],
   "source": [
    "#now its time to check for missing values agian previously we had no miising values but now we hanve 5 for ca and 2 for thal\n",
    "data.isnull().sum()"
   ]
  },
  {
   "cell_type": "code",
   "execution_count": null,
   "id": "ulC-SuEow8Sb",
   "metadata": {
    "id": "ulC-SuEow8Sb"
   },
   "outputs": [],
   "source": [
    "#replace the nan with median(has better accuracy than removing thw whole row)\n",
    "data = data.fillna(data.median())\n",
    "#check agian\n",
    "data.isnull().sum()"
   ]
  },
  {
   "cell_type": "code",
   "execution_count": null,
   "id": "js0v445JxiTn",
   "metadata": {
    "id": "js0v445JxiTn"
   },
   "outputs": [],
   "source": [
    "#check for duplicate rows\n",
    "duplicated = data.duplicated().sum()\n",
    "if duplicated:\n",
    "  print(\"Duplicated values = {} \".format(duplicated))\n",
    "else:\n",
    "  print(\"No duplicate values\")\n",
    "\n",
    "#to display duplicate row\n",
    "data[data.duplicated()==True] \n",
    "#there is one duplicated row"
   ]
  },
  {
   "cell_type": "code",
   "execution_count": null,
   "id": "ypX-i0xCygD_",
   "metadata": {
    "id": "ypX-i0xCygD_"
   },
   "outputs": [],
   "source": [
    "#to remove THE FIRST duplicate row\n",
    "data.drop_duplicates(subset=None, keep='first', inplace=True)\n",
    "data"
   ]
  },
  {
   "cell_type": "code",
   "execution_count": null,
   "id": "5ddaf37a",
   "metadata": {
    "id": "5ddaf37a"
   },
   "outputs": [],
   "source": [
    "#check the outliers value in each feature\n",
    "\n",
    "data.plot(kind='box', subplots=True, layout=(2,7),\n",
    "sharex=False,sharey=False, figsize=(20, 10), \n",
    "color='blue');\n",
    "continous_features = ['age','trestbps','chol','thalach','oldpeak']  \n",
    "def outliers(data, drop = False):\n",
    "    for each_feature in data.columns:\n",
    "        feature_data = data[each_feature]\n",
    "        Q1 = np.percentile(feature_data, 25.) # 25th percentile of the data of the given feature\n",
    "        Q3 = np.percentile(feature_data, 75.) # 75th percentile of the data of the given feature\n",
    "        IQR = Q3-Q1 #Interquartile Range\n",
    "        outlier_step = IQR * 1.5 #That's we were talking about above\n",
    "        outliers = feature_data[~((feature_data >= Q1 - outlier_step) & (feature_data <= Q3 + outlier_step))].index.tolist()  \n",
    "        if not drop:\n",
    "            print('For the feature {}, No of Outliers is {}'.format(each_feature, len(outliers)))\n",
    "        if drop:\n",
    "            data.drop(outliers, inplace = True, errors = 'ignore')\n",
    "            print('Outliers from {} feature removed'.format(each_feature))\n",
    "\n",
    "outliers(data[continous_features])"
   ]
  },
  {
   "cell_type": "code",
   "execution_count": null,
   "id": "2824aa1c",
   "metadata": {
    "id": "2824aa1c"
   },
   "outputs": [],
   "source": [
    "\n",
    "#figure that describe the outliers of features\n",
    "\n",
    "#remove outliers and replace the NaN wwith median\n",
    "for x in data:\n",
    "    q75,q25 = np.percentile(data.loc[:,x],[75,25])\n",
    "    intr_qr = q75-q25\n",
    "\n",
    "    max = q75+(1.5*intr_qr)\n",
    "    min = q25-(1.5*intr_qr)\n",
    "\n",
    "    data.loc[data[x] < min,x] = np.nan\n",
    "    data.loc[data[x] > max,x] = np.nan\n",
    "\n",
    "data = data.fillna(data.median())\n",
    "data"
   ]
  },
  {
   "cell_type": "code",
   "execution_count": null,
   "id": "bjl4RvqTzPSN",
   "metadata": {
    "id": "bjl4RvqTzPSN"
   },
   "outputs": [],
   "source": [
    "#check agian for NULLS\n",
    "data.isnull().sum()\n",
    "#no NaN values"
   ]
  },
  {
   "cell_type": "code",
   "execution_count": null,
   "id": "a57b29c5",
   "metadata": {
    "colab": {
     "base_uri": "https://localhost:8080/"
    },
    "id": "a57b29c5",
    "outputId": "c666d3fc-1e51-4ce6-b7c7-e3e8e7a1e32a"
   },
   "outputs": [],
   "source": [
    "from sklearn.model_selection import train_test_split\n",
    "\n",
    "predictors = data.drop(\"target\",axis=1)\n",
    "target = data[\"target\"]\n",
    "\n",
    "X_train,X_test,Y_train,Y_test = train_test_split(predictors,target,train_size=0.80,test_size=0.20,random_state=0)\n",
    "\n",
    "\n",
    "knn = KNeighborsClassifier(n_neighbors = 8)\n",
    "knn.fit(X_train,Y_train)\n",
    "y_pred1 = knn.predict(X_test)\n",
    "score_nb = round(accuracy_score(y_pred1,Y_test)*100,2)\n",
    "\n",
    "print(\"The accuracy score achieved using KNN is: \"+str(score_nb)+\" %\")\n",
    "\n",
    "from sklearn.naive_bayes import GaussianNB\n",
    "\n",
    "nb = GaussianNB()\n",
    "\n",
    "nb.fit(X_train,Y_train)\n",
    "\n",
    "Y_pred_nb = nb.predict(X_test)\n",
    "score_nb = round(accuracy_score(Y_pred_nb,Y_test)*100,2)\n",
    "\n",
    "print(\"The accuracy score achieved using Naive Bayes is: \"+str(score_nb)+\" %\")\n",
    "\n",
    "from sklearn.tree import DecisionTreeClassifier\n",
    "\n",
    "max_accuracy = 0\n",
    "\n",
    "for x in range(302):\n",
    "    dt = DecisionTreeClassifier(random_state=x)\n",
    "    dt.fit(X_train, Y_train)\n",
    "    Y_pred_dt = dt.predict(X_test)\n",
    "    current_accuracy = round(accuracy_score(Y_pred_dt, Y_test) * 100, 2)\n",
    "    if (current_accuracy > max_accuracy):\n",
    "        max_accuracy = current_accuracy\n",
    "        best_x = x\n",
    "\n",
    "\n",
    "\n",
    "\n",
    "dt = DecisionTreeClassifier(random_state=best_x)\n",
    "dt.fit(X_train, Y_train)\n",
    "Y_pred_dt = dt.predict(X_test)\n",
    "score_dt = round(accuracy_score(Y_pred_dt,Y_test)*100,2)\n",
    "clf_report = pd.DataFrame(classification_report(Y_test, Y_pred_dt, output_dict=True))\n",
    "print(\"The accuracy score achieved using Decision Tree is: \"+str(score_dt)+\" %\")\n",
    "#print(clf_report)\n",
    "\n",
    "from sklearn.ensemble import RandomForestClassifier\n",
    "\n",
    "max_accuracy = 0\n",
    "\n",
    "for x in range(302):\n",
    "    rf = RandomForestClassifier(random_state=x) \n",
    "    rf.fit(X_train, Y_train)\n",
    "    Y_pred_rf = rf.predict(X_test)\n",
    "    current_accuracy = round(accuracy_score(Y_pred_rf, Y_test) * 100, 2)\n",
    "    if (current_accuracy > max_accuracy):\n",
    "        max_accuracy = current_accuracy\n",
    "        best_x = x\n",
    "\n",
    "\n",
    "\n",
    "rf = RandomForestClassifier(random_state=best_x)\n",
    "rf.fit(X_train, Y_train)\n",
    "Y_pred_rf = rf.predict(X_test)\n",
    "\n",
    "score_rf = round(accuracy_score(Y_pred_rf,Y_test)*100,2)\n",
    "\n",
    "print(\"The accuracy score achieved using random classifier is: \"+str(score_rf)+\" %\")"
   ]
  },
  {
   "cell_type": "code",
   "execution_count": null,
   "id": "3a3429dd",
   "metadata": {
    "colab": {
     "base_uri": "https://localhost:8080/",
     "height": 738
    },
    "id": "3a3429dd",
    "outputId": "bd3ed3e0-362f-4098-d8aa-aef2c698bc69"
   },
   "outputs": [],
   "source": [
    "\n",
    "plt.figure(figsize=(20,12))\n",
    "sns.set_context('notebook',font_scale = 1.3)\n",
    "sns.heatmap(data.corr(),annot=True,linewidth =2)\n",
    "plt.tight_layout()"
   ]
  },
  {
   "cell_type": "code",
   "execution_count": null,
   "id": "6a220f01",
   "metadata": {
    "colab": {
     "base_uri": "https://localhost:8080/",
     "height": 555
    },
    "id": "6a220f01",
    "outputId": "70916802-118d-4634-c7c8-df88638a4005",
    "scrolled": true
   },
   "outputs": [],
   "source": [
    "sns.set_context('notebook',font_scale = 2.3)\n",
    "data.drop('target', axis=1).corrwith(data.target).plot(kind='bar', grid=True, figsize=(20, 10),\n",
    "title=\"Correlation with the target feature\")\n",
    "plt.tight_layout()\n",
    "plt.show()\n",
    "\"Four feature( “cp”, “restecg”, “thalach”, “slope” ) are positively correlated with the target feature.\"\n",
    "\"oldpeak, exang, ca, thal, sex, age shows a good negative correlation with target\"\n",
    "\"fbs ,chol, trestbps, restecg has low correlation with our target\""
   ]
  },
  {
   "cell_type": "code",
   "execution_count": null,
   "id": "46d098f6",
   "metadata": {
    "id": "46d098f6"
   },
   "outputs": [],
   "source": [
    "\"Age Analysis\"\n",
    "\" divide the Age feature into three parts  “Young”, “Middle” and “Elder”\"\n",
    "Young = data[(data.age>=29)&(data.age<40)]\n",
    "Middle = data[(data.age>=40)&(data.age<55)]\n",
    "Elder = data[(data.age>55)]\n",
    "\n",
    "plt.figure(figsize=(23,10))\n",
    "sns.set_context('notebook',font_scale = 1.5)\n",
    "sns.barplot(x=['young ages','middle ages','elderly ages'],y=[len(Young),len(Middle),len(Elder)])\n",
    "plt.tight_layout()\n",
    "\n",
    "\"we can see that elder people are the most affected by heart disease and young ones are the least affected.\""
   ]
  },
  {
   "cell_type": "code",
   "execution_count": null,
   "id": "bcfd50db",
   "metadata": {
    "id": "bcfd50db"
   },
   "outputs": [],
   "source": [
    "colors = ['blue','green','yellow']\n",
    "explode = [0,0,0.1]\n",
    "plt.figure(figsize=(10,10))\n",
    "sns.set_context('notebook',font_scale = 1.2)\n",
    "plt.pie([len(Young),len(Middle),len(Elder)],labels=['young ages','middle ages','elderly ages'],explode=explode,colors=colors, autopct='%1.1f%%')\n",
    "plt.tight_layout()\n",
    "\"to prove above inference\""
   ]
  },
  {
   "cell_type": "code",
   "execution_count": null,
   "id": "a87a93c2",
   "metadata": {
    "id": "a87a93c2"
   },
   "outputs": [],
   "source": [
    "sns.barplot(data[\"sex\"],data[\"target\"])\n",
    "\"Analysis sex vs target column \""
   ]
  },
  {
   "cell_type": "code",
   "execution_count": null,
   "id": "9eaeecd9",
   "metadata": {
    "id": "9eaeecd9"
   },
   "outputs": [],
   "source": [
    "\"Chest Pain Type(cp) Analysis\"\n",
    "plt.figure(figsize=(18,9))\n",
    "sns.set_context('notebook',font_scale = 1.5)\n",
    "sns.countplot(data['cp'])\n",
    "plt.tight_layout()\n",
    "\"Inference: As seen, there are 4 types of chest pain\""
   ]
  },
  {
   "cell_type": "code",
   "execution_count": null,
   "id": "2a227567",
   "metadata": {
    "id": "2a227567"
   },
   "outputs": [],
   "source": [
    "\"Analyzing cp vs target column\"\n",
    "sns.barplot(data[\"cp\"],data[\"target\"])\n",
    "\"Inference: From the above graph we can make some inferences\",\n",
    "\n",
    "\"People having the least chest pain are not likely to have heart disease.\"\n",
    "\"People having severe chest pain are likely to have heart disease.\"\n",
    "\"Elderly people are more likely to have chest pain.\""
   ]
  },
  {
   "cell_type": "code",
   "execution_count": null,
   "id": "30e62e65",
   "metadata": {
    "id": "30e62e65"
   },
   "outputs": [],
   "source": [
    "\"Thal Analysis\"\n",
    "sns.barplot(data[\"thal\"],data[\"target\"])\n",
    "\n",
    "\"thal : [1 = normal, 2 = fixed defect, 3 = reversible defect]\""
   ]
  },
  {
   "cell_type": "code",
   "execution_count": null,
   "id": "rdQdbyUUc2fM",
   "metadata": {
    "colab": {
     "base_uri": "https://localhost:8080/",
     "height": 421
    },
    "id": "rdQdbyUUc2fM",
    "outputId": "d68f0046-e452-48da-fc99-d9a69a33beba"
   },
   "outputs": [],
   "source": [
    "sns.barplot(data[\"slope\"],data[\"target\"])\n",
    "\"We observe, that Slope '2' causes heart pain much more than Slope '0' and '1'\"\n"
   ]
  },
  {
   "cell_type": "code",
   "execution_count": null,
   "id": "b6f056d2",
   "metadata": {
    "id": "b6f056d2"
   },
   "outputs": [],
   "source": [
    "data.target.value_counts()"
   ]
  },
  {
   "cell_type": "code",
   "execution_count": null,
   "id": "82b1a4b9",
   "metadata": {
    "id": "82b1a4b9"
   },
   "outputs": [],
   "source": [
    "plt.figure(figsize=(18,9))\n",
    "sns.set_context('notebook',font_scale = 1.5)\n",
    "sns.countplot(data['target'])\n",
    "plt.tight_layout()"
   ]
  }
 ],
 "metadata": {
  "colab": {
   "collapsed_sections": [],
   "name": "HeartDiseaseProject (1).ipynb",
   "provenance": []
  },
  "kernelspec": {
   "display_name": "Python 3 (ipykernel)",
   "language": "python",
   "name": "python3"
  },
  "language_info": {
   "codemirror_mode": {
    "name": "ipython",
    "version": 3
   },
   "file_extension": ".py",
   "mimetype": "text/x-python",
   "name": "python",
   "nbconvert_exporter": "python",
   "pygments_lexer": "ipython3",
   "version": "3.9.7"
  }
 },
 "nbformat": 4,
 "nbformat_minor": 5
}
